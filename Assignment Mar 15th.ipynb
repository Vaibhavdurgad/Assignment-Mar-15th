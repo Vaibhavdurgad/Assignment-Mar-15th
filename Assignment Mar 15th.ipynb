{
 "cells": [
  {
   "cell_type": "markdown",
   "id": "cb744949-9222-4f89-991c-6d06f5eb7027",
   "metadata": {},
   "source": [
    "Q1.Explain thK following with an examples\n",
    "\n",
    "a) Artificial intelligence\n",
    "b) Machine learning\n",
    "c) Deep Learning"
   ]
  },
  {
   "cell_type": "markdown",
   "id": "606a61f0-a1ba-433c-b54e-ad61c71c949a",
   "metadata": {},
   "source": [
    "Ans:\n",
    "Artificial intelligence involves replicating human intellectual processes through machines, especially computers. There are many applications of AI, such as expert systems, natural language processing, speech recognition, and machine vision.\n",
    "\n",
    "Machine learning is a branch of artificial intelligence (AI) and computer science which focuses on the use of data and algorithms to imitate the way that humans learn, gradually improving its accuracy. EX:Facial recognition.\n",
    "\n",
    "Deep learning is a class of machine learning algorithms that uses multiple layers to progressively extract higher-level features from the raw input. For example, in image processing, lower layers may identify edges, while higher layers may identify the concepts relevant to a human such as digits or letters or faces."
   ]
  },
  {
   "cell_type": "markdown",
   "id": "8a5c3eed-e486-49f4-bad8-98d6cb6db06a",
   "metadata": {},
   "source": [
    "Q2- What is supervised learning? List some examples of supervised learning."
   ]
  },
  {
   "cell_type": "markdown",
   "id": "eea15c49-1baa-4ffb-9436-96e34bcf809b",
   "metadata": {},
   "source": [
    "Ans :Supervised learning, also known as supervised machine learning, is a subcategory of machine learning and artificial intelligence. It is defined by its use of labeled datasets to train algorithms that to classify data or predict outcomes accurately. Ex:predicting house prices. "
   ]
  },
  {
   "cell_type": "markdown",
   "id": "09c2c787-07d7-4fd2-a5a9-aed614c7d6f7",
   "metadata": {},
   "source": [
    "Q3- What is unsupervised learning? List some examples of unsupervised learning."
   ]
  },
  {
   "cell_type": "markdown",
   "id": "658d6af4-ff7d-4da7-b1ce-020175281eff",
   "metadata": {},
   "source": [
    "Ans : Unsupervised learning, also known as unsupervised machine learning, uses machine learning algorithms to analyze and cluster unlabeled datasets. These algorithms discover hidden patterns or data groupings without the need for human intervention.\n",
    "Ex:dimension reduction and clustering"
   ]
  },
  {
   "cell_type": "markdown",
   "id": "09fde619-06ed-4b92-b904-28adfb85b36e",
   "metadata": {},
   "source": [
    "Q4- What is the difference between AI, ML, DL, and DS?"
   ]
  }
 ],
 "metadata": {
  "kernelspec": {
   "display_name": "Python 3 (ipykernel)",
   "language": "python",
   "name": "python3"
  },
  "language_info": {
   "codemirror_mode": {
    "name": "ipython",
    "version": 3
   },
   "file_extension": ".py",
   "mimetype": "text/x-python",
   "name": "python",
   "nbconvert_exporter": "python",
   "pygments_lexer": "ipython3",
   "version": "3.10.8"
  }
 },
 "nbformat": 4,
 "nbformat_minor": 5
}
